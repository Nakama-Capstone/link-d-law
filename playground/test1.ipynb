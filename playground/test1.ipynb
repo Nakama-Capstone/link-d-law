{
 "cells": [
  {
   "cell_type": "code",
   "execution_count": 38,
   "metadata": {},
   "outputs": [],
   "source": [
    "import pandas as pd\n",
    "import torch\n",
    "\n",
    "data = {\n",
    "    'bab': [1, 1, 2, 2, 3],\n",
    "    'pasal': [1, 2, 3, 4, 5],\n",
    "    'isi': [\n",
    "        'jadi presiden yah jangan korupsi',\n",
    "        'ya kali presiden korupsi',\n",
    "        'korupsi memding dpr aja',\n",
    "        'prabowo presidenku gibran cawapres ku',\n",
    "        'ya kali anies ngurus banjir aja lah dijakarta'\n",
    "    ]\n",
    "}\n",
    "\n",
    "df = pd.DataFrame(data)"
   ]
  },
  {
   "cell_type": "code",
   "execution_count": 39,
   "metadata": {},
   "outputs": [
    {
     "name": "stderr",
     "output_type": "stream",
     "text": [
      "Some weights of BertForSequenceClassification were not initialized from the model checkpoint at bert-base-uncased and are newly initialized: ['classifier.weight', 'classifier.bias']\n",
      "You should probably TRAIN this model on a down-stream task to be able to use it for predictions and inference.\n"
     ]
    }
   ],
   "source": [
    "from transformers import BertTokenizer, BertForSequenceClassification\n",
    "\n",
    "tokenizer = BertTokenizer.from_pretrained('bert-base-uncased')\n",
    "model = BertForSequenceClassification.from_pretrained('bert-base-uncased', num_labels=len(df['pasal'].unique()))"
   ]
  },
  {
   "cell_type": "code",
   "execution_count": 45,
   "metadata": {},
   "outputs": [
    {
     "name": "stdout",
     "output_type": "stream",
     "text": [
      "   bab  pasal                                    isi\n",
      "1    1      2               ya kali presiden korupsi\n",
      "2    2      3                korupsi memding dpr aja\n",
      "3    2      4  prabowo presidenku gibran cawapres ku\n"
     ]
    }
   ],
   "source": [
    "user_input = \"presiden\"\n",
    "\n",
    "# Tokenisasi dan encoding input pengguna\n",
    "input_ids = tokenizer.encode(user_input, add_special_tokens=True, return_tensors=\"pt\")\n",
    "\n",
    "# Lakukan prediksi\n",
    "with torch.no_grad():\n",
    "    outputs = model(input_ids)\n",
    "    predictions = torch.topk(outputs.logits, k=3, dim=-1)\n",
    "    \n",
    "outputs = predictions.indices.tolist()\n",
    "\n",
    "print(df[df['pasal'].isin(outputs[0])])\n"
   ]
  },
  {
   "cell_type": "code",
   "execution_count": 41,
   "metadata": {},
   "outputs": [],
   "source": [
    "# output_pasal = df[df['pasal'] == predicted_pasal]\n",
    "# print(output_pasal)"
   ]
  }
 ],
 "metadata": {
  "kernelspec": {
   "display_name": "Python 3",
   "language": "python",
   "name": "python3"
  },
  "language_info": {
   "codemirror_mode": {
    "name": "ipython",
    "version": 3
   },
   "file_extension": ".py",
   "mimetype": "text/x-python",
   "name": "python",
   "nbconvert_exporter": "python",
   "pygments_lexer": "ipython3",
   "version": "3.11.3"
  }
 },
 "nbformat": 4,
 "nbformat_minor": 2
}
