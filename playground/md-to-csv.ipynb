{
 "cells": [
  {
   "cell_type": "code",
   "execution_count": 202,
   "metadata": {},
   "outputs": [],
   "source": [
    "import os\n",
    "import markdown\n",
    "from pyquery import PyQuery as pq\n",
    "import pandas as pd"
   ]
  },
  {
   "cell_type": "code",
   "execution_count": 203,
   "metadata": {},
   "outputs": [],
   "source": [
    "# CONFIG\n",
    "dataset_file_name = \"kitab-hukum-perdata\"\n",
    "dataset_file_path = f\"../datasets/{dataset_file_name}/{dataset_file_name}.md\"\n",
    "dataset_file_path_output = f\"../datasets/{dataset_file_name}/{dataset_file_name}.csv\""
   ]
  },
  {
   "cell_type": "code",
   "execution_count": 204,
   "metadata": {},
   "outputs": [],
   "source": [
    "# load markdown\n",
    "if not os.path.exists(dataset_file_path):\n",
    "    print(f\"File tidak ditemukan: {dataset_file_path}\")\n",
    "    exit(1)\n",
    "else:\n",
    "    # Baca isi file\n",
    "    with open(dataset_file_path, 'r', encoding='utf-8') as md_file:\n",
    "        text = md_file.read()\n",
    "\n",
    "    # Konversi isi file ke HTML\n",
    "    dataset_data = markdown.markdown(text)\n",
    "    dataset_data_pq = pq(dataset_data)\n",
    "\n",
    "    # (Opsional) Cetak ke console\n",
    "    # print()\n",
    "    dataset_data_args: [pq] = []\n",
    "    dataset_data_pq('p').each(lambda x,y : dataset_data_args.append(pq(y)))\n",
    "    \n",
    "# dataset_data_args = dataset_data_pq.html().split(\"\\n\")\n",
    "# data = []\n",
    "\n",
    "data = []\n",
    "for item in dataset_data_args:\n",
    "    item = pq(item)\n",
    "    # a.find('code').remove()\n",
    "    # print(item.text())\n",
    "    # continue\n",
    "    try:\n",
    "        p = pq(item)('p')\n",
    "        c = pq(item)('code')\n",
    "        if p:\n",
    "            c = p('code')\n",
    "            if c:\n",
    "                txt = c.text()\n",
    "                # if txt has \"Pasal\" at first\n",
    "                if txt.startswith(\"Pasal\"):\n",
    "                    # print(txt)\n",
    "                    pr = pq(p)\n",
    "                    pr.find('code').remove()\n",
    "                    # if pr:\n",
    "                    #     print(pr.text())\n",
    "                    data.append([txt, pr.text()])\n",
    "    except:\n",
    "        pass\n",
    "\n",
    "df = pd.DataFrame(data, columns=['Pasal', 'Isi'])\n",
    "\n",
    "# save to file\n",
    "df.to_csv(dataset_file_path_output)"
   ]
  }
 ],
 "metadata": {
  "kernelspec": {
   "display_name": "Python 3",
   "language": "python",
   "name": "python3"
  },
  "language_info": {
   "codemirror_mode": {
    "name": "ipython",
    "version": 3
   },
   "file_extension": ".py",
   "mimetype": "text/x-python",
   "name": "python",
   "nbconvert_exporter": "python",
   "pygments_lexer": "ipython3",
   "version": "3.11.3"
  }
 },
 "nbformat": 4,
 "nbformat_minor": 2
}
