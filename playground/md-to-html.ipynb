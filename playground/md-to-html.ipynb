{
 "cells": [
  {
   "cell_type": "code",
   "execution_count": 7,
   "metadata": {},
   "outputs": [],
   "source": [
    "import os\n",
    "import markdown"
   ]
  },
  {
   "cell_type": "code",
   "execution_count": 8,
   "metadata": {},
   "outputs": [],
   "source": [
    "# CONFIG\n",
    "dataset_file_name = \"kitab-hukum-perdata\"\n",
    "dataset_file_path = f\"../datasets/{dataset_file_name}/{dataset_file_name}.md\"\n",
    "dataset_file_path_output = f\"../datasets/{dataset_file_name}/{dataset_file_name}.html\""
   ]
  },
  {
   "cell_type": "code",
   "execution_count": 9,
   "metadata": {},
   "outputs": [],
   "source": [
    "# load markdown\n",
    "if not os.path.exists(dataset_file_path):\n",
    "    print(f\"File tidak ditemukan: {dataset_file_path}\")\n",
    "    exit(1)\n",
    "else:\n",
    "    # Baca isi file\n",
    "    with open(dataset_file_path, 'r', encoding='utf-8') as md_file:\n",
    "        text = md_file.read()\n",
    "\n",
    "    # Konversi isi file ke HTML\n",
    "    dataset_data = markdown.markdown(text)\n",
    "\n",
    "    # save to html\n",
    "    with open(dataset_file_path_output, 'w', encoding='utf-8') as file:\n",
    "        file.write(dataset_data)"
   ]
  }
 ],
 "metadata": {
  "kernelspec": {
   "display_name": "Python 3",
   "language": "python",
   "name": "python3"
  },
  "language_info": {
   "codemirror_mode": {
    "name": "ipython",
    "version": 3
   },
   "file_extension": ".py",
   "mimetype": "text/x-python",
   "name": "python",
   "nbconvert_exporter": "python",
   "pygments_lexer": "ipython3",
   "version": "3.11.3"
  }
 },
 "nbformat": 4,
 "nbformat_minor": 2
}
