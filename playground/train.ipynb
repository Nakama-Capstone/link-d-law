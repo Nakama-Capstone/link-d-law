{
 "cells": [
  {
   "cell_type": "code",
   "execution_count": 1,
   "metadata": {},
   "outputs": [],
   "source": [
    "import copy\n",
    "import torch\n",
    "import numpy as np\n",
    "import pandas as pd\n",
    "import tensorflow as tf\n",
    "from keras.utils import to_categorical\n",
    "from sklearn.preprocessing import LabelEncoder\n",
    "from tensorflow.keras.preprocessing.text import Tokenizer\n",
    "from tensorflow.keras.preprocessing.sequence import pad_sequences\n",
    "from tensorflow.keras.utils import to_categorical\n",
    "from tensorflow.keras.models import Sequential\n",
    "from tensorflow.keras.layers import Embedding, LSTM, Dense, Masking\n",
    "from transformers import BertTokenizer, TFBertModel\n",
    "from sklearn.model_selection import train_test_split\n",
    "from torch.utils.data import DataLoader, TensorDataset, random_split\n",
    "from transformers import BertTokenizer, BertForSequenceClassification, AdamW\n",
    "from transformers import BertTokenizer, BertForSequenceClassification, Trainer, TrainingArguments"
   ]
  },
  {
   "cell_type": "markdown",
   "metadata": {},
   "source": [
    "## Load Data"
   ]
  },
  {
   "cell_type": "code",
   "execution_count": 2,
   "metadata": {},
   "outputs": [],
   "source": [
    "csv_path = '../datasets/uud1945/uud1945.csv'\n",
    "csv_title = 'uud1945'\n",
    "cache_path = '../cache'\n",
    "\n",
    "df = pd.read_csv('../datasets/uud1945/uud1945.csv')"
   ]
  },
  {
   "cell_type": "code",
   "execution_count": 3,
   "metadata": {},
   "outputs": [
    {
     "name": "stdout",
     "output_type": "stream",
     "text": [
      "data length = 40 | columns = 4 \n",
      "\n",
      "\n",
      "Index(['Bab', 'Judul Bab', 'Pasal', 'Isi'], dtype='object')\n",
      "   Bab                       Judul Bab Pasal  \\\n",
      "0    I           BENTUK DAN KEDAULATAN     1   \n",
      "1   II  MAJELIS PERMUSYAWARATAN RAKYAT     2   \n",
      "2  III   KEKUASAAN PEMERINTAHAN NEGARA     3   \n",
      "3   IV          KEKUASAAN KEPEMIMPINAN     4   \n",
      "\n",
      "                                                 Isi  \n",
      "0  (1) Negara Indonesia ialah Negara Kesatuan, ya...  \n",
      "1  (1) Majelis Permusyawaratan Rakyat terdiri ata...  \n",
      "2  Majelis Permusyawaratan Rakyat menetapkan Unda...  \n",
      "3  (1) Presiden Republik Indonesia memegang kekua...  \n"
     ]
    }
   ],
   "source": [
    "print(f\"data length = {(df.shape[0])} | columns = {(df.shape[1])} \\n\\n\")\n",
    "print(df.columns)\n",
    "print(df.head(4))"
   ]
  },
  {
   "cell_type": "markdown",
   "metadata": {},
   "source": [
    "## Preprocessing Data"
   ]
  },
  {
   "cell_type": "code",
   "execution_count": 4,
   "metadata": {},
   "outputs": [
    {
     "name": "stdout",
     "output_type": "stream",
     "text": [
      "   Bab                       Judul Bab Pasal  \\\n",
      "0    i           bentuk dan kedaulatan     1   \n",
      "1   ii  majelis permusyawaratan rakyat     2   \n",
      "2  iii   kekuasaan pemerintahan negara     3   \n",
      "3   iv          kekuasaan kepemimpinan     4   \n",
      "\n",
      "                                                 Isi  \n",
      "0  [(1, negar, indonesi, iala, negar, kesatuan, y...  \n",
      "1  [(1, majeli, permusyawarata, rakya, terdir, at...  \n",
      "2  [majeli, permusyawarata, rakya, menetapka, und...  \n",
      "3  [(1, preside, republi, indonesi, memegan, keku...  \n"
     ]
    }
   ],
   "source": [
    "df_proc = copy.deepcopy(df)\n",
    "\n",
    "# Menghapus tanda kutip ganda di awal dan akhir teks\n",
    "df_proc['Bab'] = df_proc['Bab'].str.strip('\"\"')\n",
    "df_proc['Judul Bab'] = df_proc['Judul Bab'].str.strip('\"\"')\n",
    "df_proc['Pasal'] = df_proc['Pasal'].str.strip('\"\"')\n",
    "df_proc['Isi'] = df_proc['Isi'].str.strip('\"\"')\n",
    "\n",
    "# Mengubah huruf kecil semua\n",
    "df_proc['Bab'] = df_proc['Bab'].str.lower()\n",
    "df_proc['Judul Bab'] = df_proc['Judul Bab'].str.lower()\n",
    "df_proc['Pasal'] = df_proc['Pasal'].str.lower()\n",
    "df_proc['Isi'] = df_proc['Isi'].str.lower()\n",
    "\n",
    "# Memisahkan teks yang panjang menjadi kalimat-kalimat pendek\n",
    "df_proc['Isi'] = df_proc['Isi'].str.split('. ')\n",
    "\n",
    "# Menghilangkan tanda baca\n",
    "df_proc['Isi'] = df_proc['Isi'].apply(lambda x: [sentence.replace(',', '').replace('.', '') for sentence in x])\n",
    "\n",
    "# tampilkan Isi aja\n",
    "print(df_proc.head(4))\n",
    "\n",
    "# safe cache dataframe\n",
    "df_proc.to_csv(f'{cache_path}/{csv_title}.csv')\n"
   ]
  },
  {
   "cell_type": "code",
   "execution_count": 5,
   "metadata": {},
   "outputs": [],
   "source": [
    "df_indexed = df_proc.set_index('Judul Bab')\n",
    "df_indexed.to_csv(f'{cache_path}/{csv_title}.csv')"
   ]
  },
  {
   "cell_type": "markdown",
   "metadata": {},
   "source": [
    "## Training Model"
   ]
  },
  {
   "cell_type": "code",
   "execution_count": 6,
   "metadata": {},
   "outputs": [
    {
     "name": "stdout",
     "output_type": "stream",
     "text": [
      "Epoch 1/5\n",
      "2/2 [==============================] - 1s 19ms/step - loss: 3.6408 - accuracy: 0.0000e+00\n",
      "Epoch 2/5\n",
      "2/2 [==============================] - 0s 17ms/step - loss: 3.6291 - accuracy: 0.1000\n",
      "Epoch 3/5\n",
      "2/2 [==============================] - 0s 17ms/step - loss: 3.6197 - accuracy: 0.2750\n",
      "Epoch 4/5\n",
      "2/2 [==============================] - 0s 17ms/step - loss: 3.6105 - accuracy: 0.4750\n",
      "Epoch 5/5\n",
      "2/2 [==============================] - 0s 17ms/step - loss: 3.6009 - accuracy: 0.6750\n"
     ]
    },
    {
     "data": {
      "text/plain": [
       "<keras.src.callbacks.History at 0x2a535e090>"
      ]
     },
     "execution_count": 6,
     "metadata": {},
     "output_type": "execute_result"
    }
   ],
   "source": [
    "# Contoh encoding label\n",
    "label_encoder = LabelEncoder()\n",
    "df['Pasal'] = label_encoder.fit_transform(df['Pasal'])\n",
    "\n",
    "# Menggunakan Tokenizer untuk mengonversi teks ke dalam urutan angka\n",
    "tokenizer = Tokenizer()\n",
    "tokenizer.fit_on_texts(df['Isi'])\n",
    "sequences = tokenizer.texts_to_sequences(df['Isi'])\n",
    "max_length = max([len(seq) for seq in sequences])\n",
    "\n",
    "# Padding agar semua urutan memiliki panjang yang sama\n",
    "input_sequences = pad_sequences(sequences, maxlen=max_length)\n",
    "\n",
    "# Jumlah kata dan jumlah kelas\n",
    "vocab_size = len(tokenizer.word_index) + 1\n",
    "num_classes = len(df['Pasal'].unique())\n",
    "\n",
    "# Membuat model\n",
    "model = Sequential([\n",
    "    Embedding(input_dim=vocab_size, output_dim=100, input_length=max_length),\n",
    "    LSTM(64),\n",
    "    Dense(num_classes, activation='softmax')\n",
    "])\n",
    "\n",
    "# Compile model\n",
    "model.compile(optimizer='adam', loss='sparse_categorical_crossentropy', metrics=['accuracy'])\n",
    "\n",
    "# Melatih model\n",
    "num_epochs = 5\n",
    "batch_size = 32\n",
    "\n",
    "model.fit(input_sequences, df['Pasal'], epochs=num_epochs, batch_size=batch_size)"
   ]
  },
  {
   "cell_type": "code",
   "execution_count": 7,
   "metadata": {},
   "outputs": [
    {
     "name": "stdout",
     "output_type": "stream",
     "text": [
      "1/1 [==============================] - 0s 221ms/step\n"
     ]
    },
    {
     "data": {
      "text/plain": [
       "array(['30'], dtype=object)"
      ]
     },
     "execution_count": 7,
     "metadata": {},
     "output_type": "execute_result"
    }
   ],
   "source": [
    "input_text = \"presiden\"\n",
    "input_sequence = tokenizer.texts_to_sequences([input_text])\n",
    "padded_input = pad_sequences(input_sequence, maxlen=max_length)\n",
    "predictions = model.predict(padded_input)\n",
    "predicted_class = np.argmax(predictions)\n",
    "predicted_label = label_encoder.inverse_transform([predicted_class])\n",
    "predicted_label"
   ]
  }
 ],
 "metadata": {
  "kernelspec": {
   "display_name": "Python 3",
   "language": "python",
   "name": "python3"
  },
  "language_info": {
   "codemirror_mode": {
    "name": "ipython",
    "version": 3
   },
   "file_extension": ".py",
   "mimetype": "text/x-python",
   "name": "python",
   "nbconvert_exporter": "python",
   "pygments_lexer": "ipython3",
   "version": "3.11.3"
  }
 },
 "nbformat": 4,
 "nbformat_minor": 2
}
