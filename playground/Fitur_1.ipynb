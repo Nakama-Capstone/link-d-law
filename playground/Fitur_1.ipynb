{
  "cells": [
    {
      "cell_type": "code",
      "execution_count": 1,
      "metadata": {
        "colab": {
          "base_uri": "https://localhost:8080/"
        },
        "id": "XsW6daUz3nR9",
        "outputId": "cee47f78-3b8b-4a85-cc4d-bf046e72dad5"
      },
      "outputs": [
        {
          "output_type": "stream",
          "name": "stdout",
          "text": [
            "Mounted at /content/drive\n"
          ]
        }
      ],
      "source": [
        "from google.colab import drive\n",
        "drive.mount('/content/drive')"
      ]
    },
    {
      "cell_type": "code",
      "source": [
        "import pandas as pd\n",
        "import re\n",
        "from sklearn.feature_extraction.text import TfidfVectorizer\n",
        "from sklearn.metrics.pairwise import cosine_similarity\n",
        "\n",
        "# Fungsi pra-pemrosesan teks\n",
        "def preprocess_text(text):\n",
        "    # Mengubah ke huruf kecil\n",
        "    text = text.lower()\n",
        "    # Menghilangkan tanda baca\n",
        "    text = re.sub(r'[^\\w\\s]', '', text)\n",
        "    return text\n",
        "\n",
        "# Baca dataset dari file CSV\n",
        "file_path = '/content/drive/MyDrive/Capstone/cleaned_kitab_hukum_perdata.csv'\n",
        "df = pd.read_csv(file_path, encoding='ISO-8859-1')\n",
        "\n",
        "# Terapkan pra-pemrosesan pada kolom teks\n",
        "df['processed_text'] = df['Isi'].apply(preprocess_text)\n",
        "\n",
        "# Membuat matriks TF-IDF dari teks yang diproses\n",
        "vectorizer = TfidfVectorizer()\n",
        "tfidf_matrix = vectorizer.fit_transform(df['processed_text'])\n",
        "\n",
        "# Fungsi untuk mencari pasal dan menampilkan isinya berdasarkan query pengguna\n",
        "def search_with_content(query):\n",
        "    # Pra-pemroses query\n",
        "    query_processed = preprocess_text(query)\n",
        "    query_vector = vectorizer.transform([query_processed])\n",
        "    similarities = cosine_similarity(query_vector, tfidf_matrix).flatten()\n",
        "    # Temukan indeks dokumen dengan kesamaan tertinggi\n",
        "    most_relevant_index = similarities.argsort()[-1]\n",
        "    relevant_pasal = df.iloc[most_relevant_index]['Pasal']\n",
        "    relevant_content = df.iloc[most_relevant_index]['Isi']\n",
        "    similarity_score = similarities[most_relevant_index]\n",
        "    return relevant_pasal, relevant_content, similarity_score\n",
        "\n",
        "# Input pengguna\n",
        "user_query = input(\"Masukkan query Anda: \")\n",
        "pasal, isi, similarity = search_with_content(user_query)\n",
        "print(f\"Pasal yang paling relevan: {pasal}, dengan skor kesamaan: {similarity}\\nIsi Pasal: {isi}\")\n"
      ],
      "metadata": {
        "colab": {
          "base_uri": "https://localhost:8080/"
        },
        "id": "sxzXgXWyUS7g",
        "outputId": "6a07e6ef-2d67-4e58-a06e-0c38356ada79"
      },
      "execution_count": 4,
      "outputs": [
        {
          "output_type": "stream",
          "name": "stdout",
          "text": [
            "Masukkan query Anda: jika ada ahli waris yang menolak warisan pasal berapa yang mengatur hal tersebut?\n",
            "Pasal yang paling relevan: Pasal 1058, dengan skor kesamaan: 0.4677923326060011\n",
            "Isi Pasal: Ahli waris yang menolak warisan, dianggap tidak pernah menjadi ahli waris.\n"
          ]
        }
      ]
    }
  ],
  "metadata": {
    "accelerator": "GPU",
    "colab": {
      "provenance": []
    },
    "kernelspec": {
      "display_name": "Python 3",
      "name": "python3"
    },
    "language_info": {
      "name": "python"
    }
  },
  "nbformat": 4,
  "nbformat_minor": 0
}